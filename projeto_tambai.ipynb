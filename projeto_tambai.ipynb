{
 "cells": [
  {
   "cell_type": "markdown",
   "id": "9114d3c4",
   "metadata": {},
   "source": [
    "<body> \n",
    "    <div style= \"background-color: black; display: box;\" ><h1 style= \"color: gold; font-size: 24px ;text-align: center;\">PROJETO DA CHEVROLET</h1>\n",
    "        <img src= 'https://assets-cdn.static-gm.com/Assets/ab628dc6-6041-4971-8975-c238040a05cb/cff38c64-f8ff-46f8-84b6-2cfe90898a92/v-1684794124/Mobile.jpg' alt= 'Montana' width='800' height= '300'>\n",
    "    </div>    \n",
    "        <p style= \"color: rbg(83,87,62); font-size: 24px ;text-align: center;\">\n",
    "            <strong>\n",
    "                    Exclusivo para criar planilhas da tambai\n",
    "            </strong>\n",
    "        </p>\n",
    "</body>\n"
   ]
  },
  {
   "cell_type": "code",
   "execution_count": 2,
   "id": "6414f449",
   "metadata": {},
   "outputs": [],
   "source": [
    "import pandas as pd # todos os importe necessarios \n",
    "import os  "
   ]
  },
  {
   "cell_type": "code",
   "execution_count": 3,
   "id": "26f910d7",
   "metadata": {},
   "outputs": [],
   "source": [
    "import locale\n",
    "import pandas as pd\n",
    "from docx import Document"
   ]
  },
  {
   "cell_type": "code",
   "execution_count": 4,
   "id": "f07160f4",
   "metadata": {},
   "outputs": [],
   "source": [
    "from datetime import datetime, timedelta\n",
    "from docx.shared import RGBColor"
   ]
  },
  {
   "cell_type": "code",
   "execution_count": 23,
   "id": "23acf2e3",
   "metadata": {},
   "outputs": [],
   "source": [
    "from docx2pdf import convert\n",
    "from datetime import datetime\n",
    "from num2words import num2words\n",
    "from calendario import Calendario_iforp"
   ]
  },
  {
   "cell_type": "code",
   "execution_count": 30,
   "id": "631a8e04",
   "metadata": {},
   "outputs": [
    {
     "data": {
      "text/plain": [
       "'Janeiro'"
      ]
     },
     "execution_count": 30,
     "metadata": {},
     "output_type": "execute_result"
    }
   ],
   "source": []
  },
  {
   "cell_type": "code",
   "execution_count": 6,
   "id": "3678e4e7",
   "metadata": {},
   "outputs": [
    {
     "data": {
      "text/plain": [
       "lojas\n",
       "via sul piedade repasse      129\n",
       "hyundai_primeiro             126\n",
       "hyundai_segundo               81\n",
       "rivaldo moto                  78\n",
       "pedragon                      74\n",
       "kinto                         68\n",
       "tambai                        37\n",
       "honda usados                  36\n",
       "honda torre                   35\n",
       "honda imb                     29\n",
       "pedragon usados               27\n",
       "via sul piedade               21\n",
       "granvia imb                   11\n",
       "eurovia olinda                 8\n",
       "tambai av recife               7\n",
       "honda piedade                  7\n",
       "honda prado                    6\n",
       "kia                            3\n",
       "jjk auto                       1\n",
       "Name: count, dtype: int64"
      ]
     },
     "execution_count": 6,
     "metadata": {},
     "output_type": "execute_result"
    }
   ],
   "source": [
    "tabela = pd.read_excel('C:/Users/Rafael/arquivos_2024/janeiro/relatorio_geral (2).xlsx')\n",
    "tabela.lojas.value_counts()\n",
    "#"
   ]
  },
  {
   "cell_type": "code",
   "execution_count": 7,
   "id": "e136f085",
   "metadata": {},
   "outputs": [
    {
     "data": {
      "text/plain": [
       "73395"
      ]
     },
     "execution_count": 7,
     "metadata": {},
     "output_type": "execute_result"
    }
   ],
   "source": [
    "tabela['valor unitario'].sum()"
   ]
  },
  {
   "cell_type": "code",
   "execution_count": 8,
   "id": "7032e591",
   "metadata": {},
   "outputs": [
    {
     "data": {
      "text/plain": [
       "784"
      ]
     },
     "execution_count": 8,
     "metadata": {},
     "output_type": "execute_result"
    }
   ],
   "source": [
    "tabela['valor unitario'].count()"
   ]
  },
  {
   "cell_type": "code",
   "execution_count": 22,
   "id": "d597e09d",
   "metadata": {},
   "outputs": [
    {
     "data": {
      "text/html": [
       "<div>\n",
       "<style scoped>\n",
       "    .dataframe tbody tr th:only-of-type {\n",
       "        vertical-align: middle;\n",
       "    }\n",
       "\n",
       "    .dataframe tbody tr th {\n",
       "        vertical-align: top;\n",
       "    }\n",
       "\n",
       "    .dataframe thead th {\n",
       "        text-align: right;\n",
       "    }\n",
       "</style>\n",
       "<table border=\"1\" class=\"dataframe\">\n",
       "  <thead>\n",
       "    <tr style=\"text-align: right;\">\n",
       "      <th></th>\n",
       "      <th>lojas</th>\n",
       "      <th>valor unitario</th>\n",
       "    </tr>\n",
       "  </thead>\n",
       "  <tbody>\n",
       "    <tr>\n",
       "      <th>0</th>\n",
       "      <td>hyundai_primeiro</td>\n",
       "      <td>15120</td>\n",
       "    </tr>\n",
       "    <tr>\n",
       "      <th>1</th>\n",
       "      <td>via sul piedade repasse</td>\n",
       "      <td>11610</td>\n",
       "    </tr>\n",
       "    <tr>\n",
       "      <th>2</th>\n",
       "      <td>hyundai_segundo</td>\n",
       "      <td>9720</td>\n",
       "    </tr>\n",
       "    <tr>\n",
       "      <th>3</th>\n",
       "      <td>kinto</td>\n",
       "      <td>6120</td>\n",
       "    </tr>\n",
       "    <tr>\n",
       "      <th>4</th>\n",
       "      <td>pedragon</td>\n",
       "      <td>5920</td>\n",
       "    </tr>\n",
       "  </tbody>\n",
       "</table>\n",
       "</div>"
      ],
      "text/plain": [
       "                       lojas  valor unitario\n",
       "0           hyundai_primeiro           15120\n",
       "1  via sul piedade repasse             11610\n",
       "2            hyundai_segundo            9720\n",
       "3                      kinto            6120\n",
       "4                  pedragon             5920"
      ]
     },
     "execution_count": 22,
     "metadata": {},
     "output_type": "execute_result"
    }
   ],
   "source": [
    "tabela.groupby('lojas', as_index=False)['valor unitario'].sum().sort_values(\n",
    "    by='valor unitario', ascending = False, ignore_index=True ).head()"
   ]
  },
  {
   "cell_type": "code",
   "execution_count": null,
   "id": "4d22d055",
   "metadata": {
    "scrolled": false
   },
   "outputs": [],
   "source": [
    "for loja in tabela.lojas.unique(): \n",
    "    tabela['lojas'] = tabela['lojas'].str.strip('')\n",
    "    tabela['categoria'] = tabela['categoria'].str.strip('')\n",
    "    tabela_lojas = tabela.loc[(tabela['lojas'] == loja) & (tabela['valor unitario'] >= 50) ]\n",
    "    faturamento = tabela_lojas['valor unitario'].sum()\n",
    "    quantidade = tabela_lojas['quant'].count()\n",
    "    \n",
    "    data_atual = datetime.now().strftime('%d/%m/%Y') # criando a data\n",
    "    valor_descrito = num2words(faturamento, lang= 'pt_BR') # valor por escrito\n",
    "\n",
    "    data_atual = datetime.now()\n",
    "    mes_anterior = data_atual - timedelta(days=10)\n",
    "\n",
    "    nome_mes_anterior = mes_anterior.strftime('%B')\n",
    "    mes = Calendario_iforp.get(nome_mes_anterior)\n",
    "\n",
    "    mensagem = f'''Segue Relaçao das placas, loja {loja.upper()} Loja Nº(codigo),\n",
    "este relatorio no valor de R$ {faturamento:,.2f}, ({valor_descrito} reais ) , é referente\n",
    "aos itens placas do Mercosul confeccionadas para os veículos abaixo relacionados,\n",
    "no período mes de ({mes})- {data_atual.year}, solicito conferencia para emissao de nota fiscal .\n",
    "temos tambem a quantidade de solicitacoes feita nesse periodo {quantidade} bins.'''\n",
    "\n",
    "    texto = f'''Atenciosamente: Rafael Leao da silva, Fone: 81 9 83685747 / 81 9 85436959\n",
    "Rua Major marcelo menezes - casa, 32 Iputinga - Recife- PE - Fone 3223-5317\n",
    "data: {data_atual.strftime('%d/%m/%Y')}'''\n",
    "\n",
    "    texto1 = 'Este documento é produzido de forma integral em python'\n",
    "    programador = ' ProgramadorJR: Rafael'\n",
    "\n",
    "    # Criar novo documento\n",
    "    doc = Document()\n",
    "\n",
    "    # Adicionar título\n",
    "    doc.add_heading('Recife Placas', level=0)\n",
    "\n",
    "    p = doc.add_paragraph()\n",
    "    p.add_run(mensagem).bold= True\n",
    "    prior_paragraph = p.insert_paragraph_before()\n",
    "    p.alignment = 3\n",
    "\n",
    "    # Criar tabela com cabeçalhos\n",
    "    table = doc.add_table(rows=1, cols=4)\n",
    "    table.style = 'Table Grid'\n",
    "\n",
    "    # Adicionar cabeçalhos da tabela\n",
    "    header_cells = table.rows[0].cells\n",
    "    header_cells[0].text = 'lojas'\n",
    "    header_cells[1].text = 'placas'\n",
    "    header_cells[2].text = 'categoria'\n",
    "    header_cells[3].text = 'valor unitario'\n",
    "\n",
    "    # Adicionar linhas com dados do DataFrame\n",
    "    for i, row in tabela_lojas.iterrows():\n",
    "        row_cells = table.add_row().cells\n",
    "        row_cells[0].text = row['lojas']\n",
    "        row_cells[1].text = str(row['placas'])\n",
    "        row_cells[2].text =   str(row['categoria'])\n",
    "        row_cells[3].text = 'R$ ' + str(row['valor unitario'])\n",
    "\n",
    "    doc.add_paragraph()\n",
    "    p = doc.add_paragraph(texto)\n",
    "    p.alignment = 3\n",
    "\n",
    "    p = doc.add_paragraph('')\n",
    "    p.add_run(texto1 + programador)\n",
    "    p.alignment = 3\n",
    "\n",
    "    # Definir a cor verde (RGB: 0, 128, 0)\n",
    "    cor_verde = RGBColor(0, 128, 0)\n",
    "\n",
    "    # Aplicar a cor verde ao estilo do parágrafo\n",
    "    run = p.runs[0]\n",
    "    font = run.font\n",
    "    font.color.rgb = cor_verde \n",
    "\n",
    "    # Salvar o documento\n",
    "    temp_file = f'C://Users/Rafael/arquivos_2024/janeiro/table_{loja}_{faturamento:,.2f}.docx'\n",
    "    doc.save(temp_file)\n",
    "\n",
    "    output_file = f'C://Users/Rafael/arquivos_2024/janeiro/table_{loja}_{faturamento:,.2f}.pdf'\n",
    "    convert(temp_file, output_file)\n",
    "\n",
    "    os.remove(temp_file)\n",
    "    print(f'A loja {loja}. esta concluido')"
   ]
  }
 ],
 "metadata": {
  "kernelspec": {
   "display_name": "Python 3 (ipykernel)",
   "language": "python",
   "name": "python3"
  },
  "language_info": {
   "codemirror_mode": {
    "name": "ipython",
    "version": 3
   },
   "file_extension": ".py",
   "mimetype": "text/x-python",
   "name": "python",
   "nbconvert_exporter": "python",
   "pygments_lexer": "ipython3",
   "version": "3.11.5"
  }
 },
 "nbformat": 4,
 "nbformat_minor": 5
}
