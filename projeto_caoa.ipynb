{
 "cells": [
  {
   "cell_type": "markdown",
   "id": "55bc2690",
   "metadata": {},
   "source": [
    "<body> \n",
    "<div style= \"background-color: black; display: box; marger-top: 20px\";>\n",
    "<div style= \"background-color: black; display: box\"; ><h1 style= \"color: white; font-size: 24px ;text-align: center;\">PROJETO DA CAOA MOTORS</h1>\n",
    "<img src= 'https://encrypted-tbn0.gstatic.com/images?q=tbn:ANd9GcQtKSQEo4mR9VbxYg9En9rp5DdsaxEECARygw&usqp=CAU' alt= 'tucson' width='600' height= '300'>\n",
    "</div>    \n",
    "    <p style= \"color: white; font-size: 24px ;text-align: center;\"><strong>Exclusivo para criar Documento de items da Hyundai caoa </strong></p>\n",
    "</div>\n",
    "    \n",
    "</body>\n"
   ]
  },
  {
   "cell_type": "code",
   "execution_count": 1,
   "id": "f90d9551",
   "metadata": {},
   "outputs": [],
   "source": [
    "#!pip install python-docx\n",
    "#!pip install num2words\n",
    "#!pip install python-docx"
   ]
  },
  {
   "cell_type": "code",
   "execution_count": 2,
   "id": "ec734c64",
   "metadata": {},
   "outputs": [],
   "source": [
    "from docx import Document # importando as bibliotecas\n",
    "from docx.shared import RGBColor\n",
    "from calendario import dicionario_lojas_caoa_primeiro\n",
    "import calendar"
   ]
  },
  {
   "cell_type": "code",
   "execution_count": 3,
   "id": "d22bdb7e",
   "metadata": {},
   "outputs": [],
   "source": [
    "from docx2pdf import convert\n",
    "import os"
   ]
  },
  {
   "cell_type": "code",
   "execution_count": 4,
   "id": "ad6d0200",
   "metadata": {},
   "outputs": [],
   "source": [
    "import pandas as pd \n",
    "from datetime import datetime, timedelta\n",
    "from num2words import num2words"
   ]
  },
  {
   "cell_type": "code",
   "execution_count": 5,
   "id": "2f64bdfb",
   "metadata": {},
   "outputs": [
    {
     "data": {
      "application/vnd.jupyter.widget-view+json": {
       "model_id": "c5f39b5d23e64ec1abfbf629af8d7125",
       "version_major": 2,
       "version_minor": 0
      },
      "text/plain": [
       "  0%|          | 0/1 [00:00<?, ?it/s]"
      ]
     },
     "metadata": {},
     "output_type": "display_data"
    },
    {
     "name": "stdout",
     "output_type": "stream",
     "text": [
      "A loja hyundai caoa.1633 esta concluido quantidade 22 e valor de 2,640.00,(dois mil, seiscentos e quarenta reais) \n"
     ]
    },
    {
     "data": {
      "application/vnd.jupyter.widget-view+json": {
       "model_id": "30b28143cf9343bbafd1beb2f6eb78c6",
       "version_major": 2,
       "version_minor": 0
      },
      "text/plain": [
       "  0%|          | 0/1 [00:00<?, ?it/s]"
      ]
     },
     "metadata": {},
     "output_type": "display_data"
    },
    {
     "name": "stdout",
     "output_type": "stream",
     "text": [
      "A loja Chery casa forte.5600 esta concluido quantidade 13 e valor de 1,560.00,(mil, quinhentos e sessenta reais) \n"
     ]
    },
    {
     "data": {
      "application/vnd.jupyter.widget-view+json": {
       "model_id": "eb833cfd0f7e4d36aec4b04c4b196df8",
       "version_major": 2,
       "version_minor": 0
      },
      "text/plain": [
       "  0%|          | 0/1 [00:00<?, ?it/s]"
      ]
     },
     "metadata": {},
     "output_type": "display_data"
    },
    {
     "name": "stdout",
     "output_type": "stream",
     "text": [
      "A loja Chery imb..2414 esta concluido quantidade 30 e valor de 3,600.00,(três mil e seiscentos reais) \n"
     ]
    }
   ],
   "source": [
    "for nome, codigo in dicionario_lojas_caoa_primeiro.items():  # loop no interable \n",
    "    tabela = pd.read_excel('C:/Users/Rafael/arquivos_2024/janeiro/planilha_caoa_primeiro_janeiro_2024.xlsx') # importando base \n",
    "    \n",
    "    soma_loja_codigo = tabela.loc[tabela['Nº LOJA'] == codigo, 'HONORÁRIOS'].sum() # calculando indicadores\n",
    "    quantidade = tabela.loc[tabela['Nº LOJA'] == codigo, 'HONORÁRIOS'].count() # calculando indicadores\n",
    "    valor_descrito = num2words(soma_loja_codigo, lang= 'pt_BR') # escrevendo valor por extenso\n",
    "    \n",
    "    itens_loja_especifica = tabela.loc[tabela['Nº LOJA'] == codigo, 'PLACA'] # separando os itens \n",
    "    itens_string = ', '.join(itens_loja_especifica) # transformando os itens em unica string\n",
    "    \n",
    "    data_atual = datetime.now().strftime('%d/%m/%Y') # criando data atual  \n",
    "    ano = datetime.now() # Obtenha a data atual\n",
    "    \n",
    "    # Verifique se a data está após o dia 20 do mês atual\n",
    "    if ano.day > 20:\n",
    "        inicio = datetime(ano.year, ano.month, 1)\n",
    "        fim = datetime(ano.year, ano.month, 20)\n",
    "    else:\n",
    "        # Se a data for antes do dia 19, volte para o mês anterior\n",
    "        data_atual_antes = datetime.now() - timedelta(days=15)\n",
    "        inicio = datetime(data_atual_antes.year, data_atual_antes.month, 21)\n",
    "        fim = datetime(data_atual_antes.year, data_atual_antes.month, calendar.monthrange(data_atual_antes.year, data_atual_antes.month)[1])  \n",
    "    \n",
    "    mensagem = f'''Recebemos da {nome} Loja Nº {codigo} HMB, a importancia\n",
    "de R$ {soma_loja_codigo:,.2f} ({valor_descrito} reais) , referente ao\n",
    "pagamento das placas do Mercosul confeccionadas para os veículos abaixo\n",
    "relacionados, no período de {inicio.strftime('%d/%m/%Y')} a {fim.strftime('%d/%m/%Y')}.\n",
    "temos tambem a quantidade de solicitacoes feita nesse periodo {quantidade} bins.''' # mensagem do corpo do Documento \n",
    "    \n",
    "    texto = f'''Atenciosamente: Rafael Leao da silva, Fone:81 9 83685747 / 81 9 85436959\n",
    "Rua Major marcelo menezes - casa, 32 Iputinga - Recife- PE - Fone 3223-5317\n",
    "data: {ano.strftime('%d/%m/%Y')}''' # dados do criador \n",
    "    \n",
    "    autoria = 'Este documento é produzido de forma integral em python'\n",
    "    programador = ' ProgramadorJR: Rafael'\n",
    "    \n",
    "    doc = Document() # estanciando um documento com docx\n",
    "    \n",
    "    doc.add_heading('Recife Placas', 0) # cabeçalho \n",
    "    doc.add_heading('RECIBOS CNPJ 15.436.220.0001-30',1)  # cabeçalho subtitulo\n",
    "    \n",
    "   \n",
    "    p = doc.add_paragraph('')  # paragrafo para da espaço \n",
    "    p.alignment = 3 # paragrafo alinhado \n",
    "    \n",
    "    p.add_run(mensagem).bold= True # bloco do para paragrafo todo em negrigo \n",
    "    prior_paragraph = p.insert_paragraph_before()\n",
    "    p.alignment = 3  # paragrafo alinhado\n",
    "    \n",
    "    p = doc.add_paragraph(itens_string) # paragrafo com os itens escrito com unica string\n",
    "    p.alignment = 3 # paragrafo alinhado\n",
    "    \n",
    "    p = doc.add_paragraph('') # paragrafo com espaço\n",
    "    p.alignment = 3 # paragrafo alinhado\n",
    "    \n",
    "    p.add_run(texto) # paragrafo com subtitulo\n",
    "    p.alignment = 3 # paragrafo alinhado\n",
    "    \n",
    "    p = doc.add_paragraph('')\n",
    "    p.add_run(autoria + programador)\n",
    "    p.alignment = 3\n",
    "    \n",
    "    # Definir a cor verde (RGB: 0, 128, 0)\n",
    "    cor = RGBColor(255, 0, 127)\n",
    "\n",
    "    # Aplicar a cor verde ao estilo do parágrafo\n",
    "    run = p.runs[0]\n",
    "    font = run.font\n",
    "    font.color.rgb = cor    \n",
    "    \n",
    "    temp_file = f'C:/Users/Rafael/arquivos_2024/janeiro/_{nome}_.docx' # arquivo docx temporario\n",
    "    \n",
    "    doc.save(temp_file) # salvando docx \n",
    "        \n",
    "    output_file = f'C:/Users/Rafael/arquivos_2024/janeiro/{nome}_{soma_loja_codigo:,.2f}.pdf' # variavel do arquivo pdf\n",
    "    \n",
    "    convert(temp_file, output_file) # converte docx em pdf \n",
    "    \n",
    "    os.remove(temp_file) # remove o arquivo docx\n",
    "    \n",
    "    print(f'A loja {nome}.{codigo} esta concluido quantidade {quantidade} e valor de {soma_loja_codigo:,.2f},({valor_descrito} reais) ')"
   ]
  },
  {
   "cell_type": "code",
   "execution_count": 6,
   "id": "fb86a9d8",
   "metadata": {},
   "outputs": [],
   "source": [
    "total_somado = tabela['HONORÁRIOS'].sum() # samado total do valores em reais\n",
    "quantidade = tabela['HONORÁRIOS'].count() # contando total"
   ]
  },
  {
   "cell_type": "code",
   "execution_count": 7,
   "id": "c992d6e6",
   "metadata": {},
   "outputs": [
    {
     "name": "stdout",
     "output_type": "stream",
     "text": [
      "quantidade 65 e total somado dos recibos 7,800.00,  reais\n"
     ]
    }
   ],
   "source": [
    "print(f'quantidade {quantidade} e total somado dos recibos {total_somado:,.2f},  reais') \n",
    "# imprindo os resultados"
   ]
  },
  {
   "cell_type": "code",
   "execution_count": null,
   "id": "e938a7ed",
   "metadata": {},
   "outputs": [],
   "source": []
  }
 ],
 "metadata": {
  "kernelspec": {
   "display_name": "Python 3 (ipykernel)",
   "language": "python",
   "name": "python3"
  },
  "language_info": {
   "codemirror_mode": {
    "name": "ipython",
    "version": 3
   },
   "file_extension": ".py",
   "mimetype": "text/x-python",
   "name": "python",
   "nbconvert_exporter": "python",
   "pygments_lexer": "ipython3",
   "version": "3.11.5"
  }
 },
 "nbformat": 4,
 "nbformat_minor": 5
}
